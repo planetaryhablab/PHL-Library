{
 "cells": [
  {
   "cell_type": "markdown",
   "metadata": {},
   "source": [
    "\n",
    "Using the program, it's also possible to graphicate the stellar flux in terms of the variables."
   ]
  },
  {
   "cell_type": "code",
   "execution_count": 2,
   "metadata": {},
   "outputs": [],
   "source": [
    "import phl\n",
    "import matplotlib.pyplot as plt\n",
    "import numpy as np"
   ]
  },
  {
   "cell_type": "markdown",
   "metadata": {},
   "source": [
    "\n",
    "(For the sake of simplicity, all of the variable's values are approximated to 2 digits)"
   ]
  },
  {
   "cell_type": "code",
   "execution_count": 3,
   "metadata": {},
   "outputs": [],
   "source": [
    "a = np.linspace(0.1, 1, 100)\n",
    "Mercury = [phl.flux(a,0.2,1.0)for a in a]\n",
    "Venus   = [phl.flux(a,0.0,1.0)for a in a]\n",
    "Earth   = [phl.flux(a,0.0,1.0)for a in a]\n",
    "Mars    = [phl.flux(a,0.1,1.0)for a in a]\n",
    "Jupiter = [phl.flux(a,0.0,1.0)for a in a]\n",
    "Saturn  = [phl.flux(a,0.0,1.0)for a in a]\n",
    "Uranus  = [phl.flux(a,0.0,1.0)for a in a]\n",
    "Neptune = [phl.flux(a,0.1,1.0)for a in a]"
   ]
  },
  {
   "cell_type": "markdown",
   "metadata": {},
   "source": [
    "\n",
    "In this example, we used our solar system's planets as references and graphicated how the stellar flux would change in terms of the semi-mayor axis (Using astronomical units)."
   ]
  },
  {
   "cell_type": "code",
   "execution_count": 4,
   "metadata": {},
   "outputs": [
    {
     "data": {
      "image/png": "[encoded data removed]",
      "text/plain": [
       "<Figure size 432x288 with 1 Axes>"
      ]
     },
     "metadata": {},
     "output_type": "display_data"
    }
   ],
   "source": [
    "fig = plt.figure()\n",
    "axes = fig.add_subplot(111)\n",
    "axes.plot(a,Mercury)\n",
    "axes.plot(a,Venus)\n",
    "axes.plot(a,Earth)\n",
    "axes.plot(a,Mars)\n",
    "axes.plot(a,Jupiter)\n",
    "axes.plot(a,Saturn)\n",
    "axes.plot(a,Uranus)\n",
    "axes.plot(a,Neptune)\n",
    "plt.show()"
   ]
  },
  {
   "cell_type": "code",
   "execution_count": null,
   "metadata": {},
   "outputs": [],
   "source": []
  }
 ],
 "metadata": {
  "kernelspec": {
   "display_name": "Python 3",
   "language": "python",
   "name": "python3"
  },
  "language_info": {
   "codemirror_mode": {
    "name": "ipython",
    "version": 3
   },
   "file_extension": ".py",
   "mimetype": "text/x-python",
   "name": "python",
   "nbconvert_exporter": "python",
   "pygments_lexer": "ipython3",
   "version": "3.6.5"
  }
 },
 "nbformat": 4,
 "nbformat_minor": 2
}
